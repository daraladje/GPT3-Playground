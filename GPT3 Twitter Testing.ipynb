{
 "cells": [
  {
   "cell_type": "code",
   "execution_count": 133,
   "metadata": {},
   "outputs": [
    {
     "name": "stdout",
     "output_type": "stream",
     "text": [
      "\u001b[31mERROR: Could not find a version that satisfies the requirement set_openai_key (from versions: none)\u001b[0m\r\n",
      "\u001b[31mERROR: No matching distribution found for set_openai_key\u001b[0m\r\n"
     ]
    }
   ],
   "source": [
    "# import sys\n",
    "# !{sys.executable} -m pip install set_openai_key"
   ]
  },
  {
   "cell_type": "code",
   "execution_count": 33,
   "metadata": {},
   "outputs": [
    {
     "name": "stderr",
     "output_type": "stream",
     "text": [
      "[nltk_data] Downloading package punkt to\n",
      "[nltk_data]     /Users/daraladjevardian/nltk_data...\n",
      "[nltk_data]   Package punkt is already up-to-date!\n",
      "[nltk_data] Downloading package wordnet to\n",
      "[nltk_data]     /Users/daraladjevardian/nltk_data...\n",
      "[nltk_data]   Package wordnet is already up-to-date!\n"
     ]
    }
   ],
   "source": [
    "import nltk\n",
    "nltk.download('punkt')\n",
    "nltk.download('wordnet')\n",
    "from nltk import sent_tokenize, word_tokenize\n",
    "from nltk.stem.snowball import SnowballStemmer\n",
    "from nltk.stem.wordnet import WordNetLemmatizer\n",
    "from nltk.corpus import stopwords\n",
    "import pandas as pd\n",
    "import numpy as np\n",
    "import re  \n",
    "import spacy\n",
    "nlp = spacy.load('en_core_web_lg')"
   ]
  },
  {
   "cell_type": "code",
   "execution_count": 19,
   "metadata": {},
   "outputs": [],
   "source": [
    "import tweepy\n",
    "consumer_key = \"XXXX\"\n",
    "consumer_secret = \"XXXX\"\n",
    "access_token = \"XXXX\"\n",
    "access_token_secret = \"XXXX\"\n",
    "auth = tweepy.OAuthHandler(consumer_key, consumer_secret)\n",
    "auth.set_access_token(access_token, access_token_secret)\n",
    "api = tweepy.API(auth,wait_on_rate_limit=True)"
   ]
  },
  {
   "cell_type": "code",
   "execution_count": 81,
   "metadata": {},
   "outputs": [],
   "source": [
    "username = 'daraladje'\n",
    "count = 100\n",
    "try:     \n",
    " # Creation of query method using parameters\n",
    " tweets = tweepy.Cursor(api.user_timeline,id=username).items(count)\n",
    " \n",
    " # Pulling information from tweets iterable object\n",
    " tweets_list = [[tweet.created_at, tweet.id, tweet.text] for tweet in tweets]\n",
    " \n",
    " # Creation of dataframe from tweets list\n",
    " # Add or remove columns as you remove tweet information\n",
    " tweets_df = pd.DataFrame(tweets_list)\n",
    "except BaseException as e:\n",
    "      print('failed on_status,',str(e))\n",
    "      time.sleep(3)"
   ]
  },
  {
   "cell_type": "code",
   "execution_count": null,
   "metadata": {},
   "outputs": [],
   "source": []
  },
  {
   "cell_type": "code",
   "execution_count": 180,
   "metadata": {},
   "outputs": [],
   "source": [
    "\n",
    "#This splits all the sentences up which makes it easier for us to work with\n",
    "\n",
    "all_sentences = []\n",
    "\n",
    "for word in tweets_df[2]:\n",
    "    all_sentences.append(word)\n",
    "\n",
    "all_sentences\n",
    "#df1 = df.to_string()\n",
    "\n",
    "#df_split = df1.split()\n",
    "\n",
    "#df_split\n",
    "lines = list()\n",
    "for line in all_sentences:    \n",
    "    words = line.split()\n",
    "    for w in words: \n",
    "       lines.append(w)\n",
    "\n",
    "\n",
    "print(lines)"
   ]
  },
  {
   "cell_type": "code",
   "execution_count": 39,
   "metadata": {},
   "outputs": [],
   "source": [
    "#Removing Punctuation\n",
    "\n",
    "lines = [re.sub(r'[^A-Za-z0-9]+', '', x) for x in lines]\n",
    "\n",
    "lines\n",
    "\n",
    "lines2 = []\n",
    "\n",
    "for word in lines:\n",
    "    if word != '':\n",
    "        lines2.append(word)"
   ]
  },
  {
   "cell_type": "code",
   "execution_count": 40,
   "metadata": {},
   "outputs": [],
   "source": [
    "#This is stemming the words to their root\n",
    "from nltk.stem.snowball import SnowballStemmer\n",
    "\n",
    "# The Snowball Stemmer requires that you pass a language parameter\n",
    "s_stemmer = SnowballStemmer(language='english')\n",
    "\n",
    "stem = []\n",
    "for word in lines2:\n",
    "    stem.append(s_stemmer.stem(word))"
   ]
  },
  {
   "cell_type": "code",
   "execution_count": 42,
   "metadata": {},
   "outputs": [],
   "source": [
    "#Removing all Stop Words\n",
    "\n",
    "stem2 = []\n",
    "\n",
    "for word in stem:\n",
    "    if word not in nlp.Defaults.stop_words:\n",
    "        stem2.append(word)\n"
   ]
  },
  {
   "cell_type": "code",
   "execution_count": 43,
   "metadata": {},
   "outputs": [],
   "source": [
    "\n",
    "df = pd.DataFrame(stem2)\n",
    "\n",
    "df = df[0].value_counts()\n",
    "\n",
    "#df\n",
    "#df['freq'] = df.groupby(0)[0].transform('count')\n",
    "#df['freq'] = df.groupby(0)[0].transform('count')\n",
    "#df.sort_values(by = ('freq'), ascending=False)"
   ]
  },
  {
   "cell_type": "code",
   "execution_count": 45,
   "metadata": {},
   "outputs": [
    {
     "data": {
      "text/plain": [
       "FreqDist({1: 5357, 2: 943, 3: 441, 4: 258, 5: 192, 6: 141, 7: 119, 8: 90, 9: 83, 10: 62, ...})"
      ]
     },
     "execution_count": 45,
     "metadata": {},
     "output_type": "execute_result"
    }
   ],
   "source": [
    "#This will give frequencies of our words\n",
    "\n",
    "from nltk.probability import FreqDist\n",
    "\n",
    "freqdoctor = FreqDist()\n",
    "\n",
    "for words in df:\n",
    "    freqdoctor[words] += 1\n",
    "\n",
    "freqdoctor"
   ]
  },
  {
   "cell_type": "code",
   "execution_count": 52,
   "metadata": {},
   "outputs": [],
   "source": [
    "import matplotlib.pyplot as plt; plt.rcdefaults()\n",
    "import numpy as np\n",
    "import matplotlib.pyplot as plt\n",
    "import seaborn as sns"
   ]
  },
  {
   "cell_type": "code",
   "execution_count": 54,
   "metadata": {},
   "outputs": [],
   "source": [
    "# #This is a simple plot that shows the top 20 words being used\n",
    "# #df.plot(20)\n",
    "\n",
    "# df = df[:20,]\n",
    "# plt.figure(figsize=(10,5))\n",
    "# sns.barplot(df.values, df.index, alpha=0.8)\n",
    "# plt.title('Top Words Overall')\n",
    "# plt.ylabel('Word from Tweet', fontsize=12)\n",
    "# plt.xlabel('Count of Words', fontsize=12)\n",
    "# plt.show()"
   ]
  },
  {
   "cell_type": "code",
   "execution_count": 55,
   "metadata": {},
   "outputs": [],
   "source": [
    "import spacy\n",
    "from spacy import displacy\n",
    "from collections import Counter\n",
    "import en_core_web_sm\n",
    "nlp = en_core_web_sm.load()"
   ]
  },
  {
   "cell_type": "code",
   "execution_count": 56,
   "metadata": {},
   "outputs": [],
   "source": [
    "def show_ents(doc):\n",
    "    if doc.ents:\n",
    "        for ent in doc.ents:\n",
    "            print(ent.text + ' - ' + ent.label_ + ' - ' + str(spacy.explain(ent.label_)))"
   ]
  },
  {
   "cell_type": "code",
   "execution_count": 57,
   "metadata": {},
   "outputs": [],
   "source": [
    "str1 = \" \" \n",
    "stem2 = str1.join(lines2)\n",
    "\n",
    "stem2 = nlp(stem2)\n",
    "\n",
    "label = [(X.text, X.label_) for X in stem2.ents]\n",
    "\n",
    "df6 = pd.DataFrame(label, columns = ['Word','Entity'])\n",
    "\n",
    "df7 = df6.where(df6['Entity'] == 'ORG')\n",
    "\n",
    "df7 = df7['Word'].value_counts()"
   ]
  },
  {
   "cell_type": "code",
   "execution_count": 59,
   "metadata": {},
   "outputs": [
    {
     "name": "stderr",
     "output_type": "stream",
     "text": [
      "/Library/Frameworks/Python.framework/Versions/3.7/lib/python3.7/site-packages/seaborn/_decorators.py:43: FutureWarning: Pass the following variables as keyword args: x, y. From version 0.12, the only valid positional argument will be `data`, and passing other arguments without an explicit keyword will result in an error or misinterpretation.\n",
      "  FutureWarning\n"
     ]
    },
    {
     "data": {
      "image/png": "[encoded data removed]",
      "text/plain": [
       "<Figure size 1000x500 with 1 Axes>"
      ]
     },
     "metadata": {},
     "output_type": "display_data"
    }
   ],
   "source": [
    "df = df7[:20,]\n",
    "plt.figure(figsize=(10,5))\n",
    "sns.barplot(df.values, df.index, alpha=0.8)\n",
    "plt.title('Top Organizations Mentioned')\n",
    "plt.ylabel('Word from Tweet', fontsize=12)\n",
    "plt.xlabel('Count of Words', fontsize=12)\n",
    "plt.show()"
   ]
  },
  {
   "cell_type": "code",
   "execution_count": 60,
   "metadata": {},
   "outputs": [],
   "source": [
    "str1 = \" \" \n",
    "stem2 = str1.join(lines2)\n",
    "\n",
    "stem2 = nlp(stem2)\n",
    "\n",
    "label = [(X.text, X.label_) for X in stem2.ents]\n",
    "\n",
    "df10 = pd.DataFrame(label, columns = ['Word','Entity'])\n",
    "\n",
    "df10 = df10.where(df10['Entity'] == 'PERSON')\n",
    "\n",
    "df11 = df10['Word'].value_counts()"
   ]
  },
  {
   "cell_type": "code",
   "execution_count": 61,
   "metadata": {},
   "outputs": [
    {
     "name": "stderr",
     "output_type": "stream",
     "text": [
      "/Library/Frameworks/Python.framework/Versions/3.7/lib/python3.7/site-packages/seaborn/_decorators.py:43: FutureWarning: Pass the following variables as keyword args: x, y. From version 0.12, the only valid positional argument will be `data`, and passing other arguments without an explicit keyword will result in an error or misinterpretation.\n",
      "  FutureWarning\n"
     ]
    },
    {
     "data": {
      "image/png": "[encoded data removed]",
      "text/plain": [
       "<Figure size 1000x500 with 1 Axes>"
      ]
     },
     "metadata": {},
     "output_type": "display_data"
    }
   ],
   "source": [
    "df = df11[:20,]\n",
    "plt.figure(figsize=(10,5))\n",
    "sns.barplot(df.values, df.index, alpha=0.8)\n",
    "plt.title('Top People Mentioned')\n",
    "plt.ylabel('Word from Tweet', fontsize=12)\n",
    "plt.xlabel('Count of Words', fontsize=12)\n",
    "plt.show()"
   ]
  },
  {
   "cell_type": "code",
   "execution_count": 64,
   "metadata": {},
   "outputs": [],
   "source": [
    "import openai"
   ]
  },
  {
   "cell_type": "code",
   "execution_count": 63,
   "metadata": {},
   "outputs": [],
   "source": [
    "def gpt3(stext):\n",
    "    openai.api_key = 'XXXX'\n",
    "    response = openai.Completion.create(\n",
    "        engine=\"davinci-instruct-beta\",\n",
    "        prompt=stext,\n",
    "            temperature=0.1,\n",
    "            max_tokens=10,\n",
    "            top_p=1,\n",
    "            frequency_penalty=0,\n",
    "            presence_penalty=0\n",
    "    )\n",
    "    content = response.choices[0].text.split('.')\n",
    "    print(content)\n",
    "    return response.choices[0].text"
   ]
  },
  {
   "cell_type": "code",
   "execution_count": null,
   "metadata": {},
   "outputs": [],
   "source": []
  },
  {
   "cell_type": "code",
   "execution_count": 99,
   "metadata": {},
   "outputs": [],
   "source": [
    "document_list = tweets_df[2].values.tolist()\n",
    "response = openai.Answer.create(\n",
    " search_model=\"ada\",\n",
    " model=\"curie\",\n",
    " question=\"What should I do before I quit my job?\",\n",
    " documents=[\"Before quitting your job, you should have a problem space that you are interested in solving\"],\n",
    " examples_context=\"In 2017, U.S. life expectancy was 78.6 years.\",\n",
    " examples=[[\"What is human life expectancy in the United States?\",\"78 years.\"]],\n",
    " max_tokens=100,\n",
    " stop=[\"\\n\", \"<|endoftext|>\"],\n",
    ")"
   ]
  },
  {
   "cell_type": "code",
   "execution_count": 118,
   "metadata": {},
   "outputs": [],
   "source": [
    "text = '''\\\n",
    "### Founder Reminder\\\n",
    "\n",
    "- Use your mental capacity and energy on your startup and idea\n",
    "\n",
    "### Personal Reminders\\\n",
    "- Give and provide value to others"
   ]
  },
  {
   "cell_type": "code",
   "execution_count": 119,
   "metadata": {},
   "outputs": [],
   "source": [
    "document_list = tweets_df[2].values.tolist()\n",
    "response = openai.Answer.create(\n",
    " search_model=\"ada\",\n",
    " model=\"curie\",\n",
    " question=\"Give me a founder reminder.\",\n",
    " documents=[text],\n",
    " examples_context=text,\n",
    " examples=[[\"Give me a social reminder.\",\"Give and provide value to others.\"]],\n",
    " max_tokens=100,\n",
    " stop=[\"\\n\", \"<|endoftext|>\"],\n",
    ")"
   ]
  },
  {
   "cell_type": "code",
   "execution_count": null,
   "metadata": {},
   "outputs": [],
   "source": []
  },
  {
   "cell_type": "code",
   "execution_count": 125,
   "metadata": {},
   "outputs": [],
   "source": [
    "import os\n",
    "openai.api_key = 'XXXX'\n",
    "completion = openai.Completion()"
   ]
  },
  {
   "cell_type": "code",
   "execution_count": 126,
   "metadata": {},
   "outputs": [],
   "source": [
    "start_chat_log = '''Human: Hello, who are you?\n",
    "AI: I am doing great. How can I help you today?\n",
    "'''\n",
    "def ask(question, chat_log=None):\n",
    "    if chat_log is None:\n",
    "        chat_log = start_chat_log\n",
    "    prompt = f'{chat_log}Human: {question}\\nAI:'\n",
    "    response = completion.create(\n",
    "        prompt=prompt, engine=\"davinci\", stop=['\\nHuman'], temperature=0.9,\n",
    "        top_p=1, frequency_penalty=0, presence_penalty=0.6, best_of=1,\n",
    "        max_tokens=150)\n",
    "    answer = response.choices[0].text.strip()\n",
    "    return answer"
   ]
  },
  {
   "cell_type": "code",
   "execution_count": 128,
   "metadata": {},
   "outputs": [
    {
     "data": {
      "text/plain": [
       "'He is the President of the United States.'"
      ]
     },
     "execution_count": 128,
     "metadata": {},
     "output_type": "execute_result"
    }
   ],
   "source": [
    "ask('Who is Barrack Obama?')"
   ]
  },
  {
   "cell_type": "code",
   "execution_count": 164,
   "metadata": {},
   "outputs": [],
   "source": [
    "import openai\n",
    "import uuid\n",
    "\n",
    "\n",
    "def set_openai_key(key):\n",
    "    \"\"\"Sets OpenAI key.\"\"\"\n",
    "    openai.api_key = key\n",
    "\n",
    "\n",
    "class Example:\n",
    "    \"\"\"Stores an input, output pair and formats it to prime the model.\"\"\"\n",
    "    def __init__(self, inp, out):\n",
    "        self.input = inp\n",
    "        self.output = out\n",
    "        self.id = uuid.uuid4().hex\n",
    "\n",
    "    def get_input(self):\n",
    "        \"\"\"Returns the input of the example.\"\"\"\n",
    "        return self.input\n",
    "\n",
    "    def get_output(self):\n",
    "        \"\"\"Returns the intended output of the example.\"\"\"\n",
    "        return self.output\n",
    "\n",
    "    def get_id(self):\n",
    "        \"\"\"Returns the unique ID of the example.\"\"\"\n",
    "        return self.id\n",
    "\n",
    "    def as_dict(self):\n",
    "        return {\n",
    "            \"input\": self.get_input(),\n",
    "            \"output\": self.get_output(),\n",
    "            \"id\": self.get_id(),\n",
    "        }\n",
    "\n",
    "\n",
    "class GPT:\n",
    "    \"\"\"The main class for a user to interface with the OpenAI API.\n",
    "    A user can add examples and set parameters of the API request.\n",
    "    \"\"\"\n",
    "    def __init__(self,\n",
    "                 engine='davinci',\n",
    "                 temperature=0.5,\n",
    "                 max_tokens=100,\n",
    "                 input_prefix=\"input: \",\n",
    "                 input_suffix=\"\\n\",\n",
    "                 output_prefix=\"output: \",\n",
    "                 output_suffix=\"\\n\\n\",\n",
    "                 append_output_prefix_to_query=False):\n",
    "        self.documents=[]\n",
    "        self.examples = {}\n",
    "        self.engine = engine\n",
    "        self.temperature = temperature\n",
    "        self.max_tokens = max_tokens\n",
    "        self.input_prefix = input_prefix\n",
    "        self.input_suffix = input_suffix\n",
    "        self.output_prefix = output_prefix\n",
    "        self.output_suffix = output_suffix\n",
    "        self.append_output_prefix_to_query = append_output_prefix_to_query\n",
    "        self.stop = (output_suffix + input_prefix).strip()\n",
    "        \n",
    "    def add_document(self, ex):\n",
    "        \"\"\"Adds an example to the object.\n",
    "        Example must be an instance of the Example class.\n",
    "        \"\"\"\n",
    "        self.documents.append(ex)\n",
    "\n",
    "    def add_example(self, ex):\n",
    "        \"\"\"Adds an example to the object.\n",
    "        Example must be an instance of the Example class.\n",
    "        \"\"\"\n",
    "        assert isinstance(ex, Example), \"Please create an Example object.\"\n",
    "        self.examples[ex.get_id()] = ex\n",
    "\n",
    "    def delete_example(self, id):\n",
    "        \"\"\"Delete example with the specific id.\"\"\"\n",
    "        if id in self.examples:\n",
    "            del self.examples[id]\n",
    "\n",
    "    def get_example(self, id):\n",
    "        \"\"\"Get a single example.\"\"\"\n",
    "        return self.examples.get(id, None)\n",
    "\n",
    "    def get_all_examples(self):\n",
    "        \"\"\"Returns all examples as a list of dicts.\"\"\"\n",
    "        return {k: v.as_dict() for k, v in self.examples.items()}\n",
    "\n",
    "    def get_prime_text(self):\n",
    "        \"\"\"Formats all examples to prime the model.\"\"\"\n",
    "        return \"\".join(\n",
    "            [self.format_example(ex) for ex in self.examples.values()])\n",
    "\n",
    "    def get_engine(self):\n",
    "        \"\"\"Returns the engine specified for the API.\"\"\"\n",
    "        return self.engine\n",
    "\n",
    "    def get_temperature(self):\n",
    "        \"\"\"Returns the temperature specified for the API.\"\"\"\n",
    "        return self.temperature\n",
    "\n",
    "    def get_max_tokens(self):\n",
    "        \"\"\"Returns the max tokens specified for the API.\"\"\"\n",
    "        return self.max_tokens\n",
    "\n",
    "    def craft_query(self, prompt):\n",
    "        \"\"\"Creates the query for the API request.\"\"\"\n",
    "        q = self.get_prime_text(\n",
    "        ) + self.input_prefix + prompt + self.input_suffix\n",
    "        if self.append_output_prefix_to_query:\n",
    "            q = q + self.output_prefix\n",
    "\n",
    "        return q\n",
    "    \n",
    "    def submit_search_request(self, prompt):\n",
    "        \"\"\"Calls the OpenAI API with the specified parameters.\"\"\"\n",
    "        response = openai.Answer.create(search_model=\"ada\",\n",
    "                                        model=\"curie\",\n",
    "                                        question=prompt,\n",
    "                                        documents=self.documents,\n",
    "                                        examples_context=\"In 2017, U.S. life expectancy was 78.6 years.\",\n",
    "                                        examples=[[\"What is human life expectancy in the United States?\",\"78 years.\"]],\n",
    "                                        max_tokens=self.get_max_tokens(),\n",
    "                                        stop=[\"\\n\", \"<|endoftext|>\"])\n",
    "        return response\n",
    "\n",
    "    def submit_request(self, prompt):\n",
    "        \"\"\"Calls the OpenAI API with the specified parameters.\"\"\"\n",
    "        response = openai.Completion.create(engine=self.get_engine(),\n",
    "                                            prompt=self.craft_query(prompt),\n",
    "                                            max_tokens=self.get_max_tokens(),\n",
    "                                            temperature=self.get_temperature(),\n",
    "                                            top_p=1,\n",
    "                                            n=1,\n",
    "                                            stream=False,\n",
    "                                            stop=self.stop)\n",
    "        return response\n",
    "\n",
    "    def get_top_reply(self, prompt):\n",
    "        \"\"\"Obtains the best result as returned by the API.\"\"\"\n",
    "        response = self.submit_request(prompt)\n",
    "        return response['choices'][0]['text']\n",
    "\n",
    "    def format_example(self, ex):\n",
    "        \"\"\"Formats the input, output pair.\"\"\"\n",
    "        return self.input_prefix + ex.get_input(\n",
    "        ) + self.input_suffix + self.output_prefix + ex.get_output(\n",
    "        ) + self.output_suffix"
   ]
  },
  {
   "cell_type": "code",
   "execution_count": 165,
   "metadata": {},
   "outputs": [],
   "source": [
    "gpt = GPT(engine=\"davinci\",\n",
    "          temperature=0.5,\n",
    "          max_tokens=100)"
   ]
  },
  {
   "cell_type": "code",
   "execution_count": 169,
   "metadata": {},
   "outputs": [
    {
     "data": {
      "text/plain": [
       "<OpenAIObject answer at 0x7fa3ad45f570> JSON: {\n",
       "  \"answers\": [\n",
       "    \"Ladjevardian.\"\n",
       "  ],\n",
       "  \"completion\": \"cmpl-3AspRd89TvYy0qFgHNK4sZXthtCuV\",\n",
       "  \"model\": \"curie:2020-05-03\",\n",
       "  \"object\": \"answer\",\n",
       "  \"search_model\": \"ada\",\n",
       "  \"selected_documents\": [\n",
       "    {\n",
       "      \"document\": 0,\n",
       "      \"text\": \"Dara's last name is Ladjevardian \"\n",
       "    }\n",
       "  ]\n",
       "}"
      ]
     },
     "execution_count": 169,
     "metadata": {},
     "output_type": "execute_result"
    }
   ],
   "source": [
    "\n",
    "gpt.submit_search_request(\"What is Dara's last name?\")"
   ]
  },
  {
   "cell_type": "code",
   "execution_count": 171,
   "metadata": {},
   "outputs": [],
   "source": [
    "gpt.add_document(text)"
   ]
  },
  {
   "cell_type": "code",
   "execution_count": null,
   "metadata": {},
   "outputs": [],
   "source": []
  },
  {
   "cell_type": "code",
   "execution_count": 174,
   "metadata": {},
   "outputs": [
    {
     "data": {
      "text/plain": [
       "<OpenAIObject answer at 0x7fa3ad4e3d00> JSON: {\n",
       "  \"answers\": [\n",
       "    \"puppy A.\"\n",
       "  ],\n",
       "  \"completion\": \"cmpl-3B63ZpmoC1Xxh1srcfpV8RnYmTXI0\",\n",
       "  \"model\": \"curie:2020-05-03\",\n",
       "  \"object\": \"answer\",\n",
       "  \"search_model\": \"ada\",\n",
       "  \"selected_documents\": [\n",
       "    {\n",
       "      \"document\": 0,\n",
       "      \"text\": \"Puppy A is happy. \"\n",
       "    },\n",
       "    {\n",
       "      \"document\": 1,\n",
       "      \"text\": \"Puppy B is sad. \"\n",
       "    }\n",
       "  ]\n",
       "}"
      ]
     },
     "execution_count": 174,
     "metadata": {},
     "output_type": "execute_result"
    }
   ],
   "source": [
    "openai.Answer.create(\n",
    "  search_model=\"ada\", \n",
    "  model=\"curie\",\n",
    "  question=\"which puppy is happy?\", \n",
    "  documents=[\"Puppy A is happy.\", \"Puppy B is sad.\"],\n",
    "  examples_context=\"In 2017, U.S. life expectancy was 78.6 years.\", \n",
    "  examples=[[\"What is human life expectancy in the United States?\",\"78 years.\"]],\n",
    "  max_tokens=5,\n",
    "  stop=[\"\\n\", \"<|endoftext|>\"],\n",
    ")"
   ]
  },
  {
   "cell_type": "code",
   "execution_count": null,
   "metadata": {},
   "outputs": [],
   "source": []
  }
 ],
 "metadata": {
  "kernelspec": {
   "display_name": "Python 3",
   "language": "python",
   "name": "python3"
  },
  "language_info": {
   "codemirror_mode": {
    "name": "ipython",
    "version": 3
   },
   "file_extension": ".py",
   "mimetype": "text/x-python",
   "name": "python",
   "nbconvert_exporter": "python",
   "pygments_lexer": "ipython3",
   "version": "3.7.1"
  }
 },
 "nbformat": 4,
 "nbformat_minor": 2
}
